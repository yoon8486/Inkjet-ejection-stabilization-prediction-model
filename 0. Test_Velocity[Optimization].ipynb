{
 "cells": [
  {
   "cell_type": "markdown",
   "id": "ed0c34ea",
   "metadata": {},
   "source": [
    "# 1. Input Data"
   ]
  },
  {
   "cell_type": "code",
   "execution_count": 2,
   "id": "57d3b823",
   "metadata": {},
   "outputs": [
    {
     "name": "stdout",
     "output_type": "stream",
     "text": [
      "     Output_Velocity  Pressure  Voltage          Z\n",
      "0           0.000000       0.0       40   1.517081\n",
      "1           0.000000       1.0       40   1.517081\n",
      "2           0.000000       2.0       40   1.517081\n",
      "3           0.000000       3.0       40   1.517081\n",
      "4           0.433423       0.0       42   1.517081\n",
      "..               ...       ...      ...        ...\n",
      "358         6.099118       1.0       40  17.801203\n",
      "359         5.771092       2.0       40  17.801203\n",
      "360         6.772376       0.0       42  17.801203\n",
      "361         6.660525       1.0       42  17.801203\n",
      "362         6.323895       2.0       42  17.801203\n",
      "\n",
      "[363 rows x 4 columns]\n"
     ]
    }
   ],
   "source": [
    "import pandas as pd\n",
    "\n",
    "# CSV 파일 불러오기\n",
    "basic_data = pd.read_csv('c:/lsy_DL/0. TestData_rev8.csv')\n",
    "\n",
    "# \"column1\"과 \"column3\" 열만 가져오기\n",
    "data = basic_data[['Output_Velocity','Pressure','Voltage','Z']]\n",
    "\n",
    "# 가져온 열의 내용 출력\n",
    "print(data)\n"
   ]
  },
  {
   "cell_type": "code",
   "execution_count": 3,
   "id": "0cd1e142",
   "metadata": {},
   "outputs": [
    {
     "name": "stdout",
     "output_type": "stream",
     "text": [
      "[0.         0.43342345 0.28823197 0.23015538 0.97009417 0.85824296\n",
      " 0.83673311 0.64852193 1.45299026 1.36910186 1.32500667 1.18626814\n",
      " 2.08860629 2.03590716 1.99826492 1.74767519 2.79520481 2.79950678\n",
      " 2.81994114 2.52633171 3.50395432 3.54482303 3.61580553 3.38672564\n",
      " 4.19334496 4.26755394 4.3869336  4.21270383 0.76037314 0.74639174\n",
      " 0.67648473 0.32479871 1.40674409 1.40351761 1.38953621 1.16475829\n",
      " 0.75499568 1.97567958 1.97783057 2.00364239 1.84984697 1.53042572\n",
      " 2.50267087 2.50159538 2.55214352 2.45427371 2.16281526 2.97158557\n",
      " 2.98986894 3.06192693 2.9952464  2.74143019 3.41361296 3.45340617\n",
      " 3.54052106 3.49535038 3.25336458 3.82982852 3.87177273 3.97179352\n",
      " 3.95673663 3.72658125 4.25142155 4.35574432 4.52352114 4.58805068\n",
      " 4.3008942  1.35404496 1.13679549 0.96149023 0.45063133 1.95094326\n",
      " 1.75950561 1.60571019 1.20562701 0.8948097  2.51342579 2.39297064\n",
      " 2.25423212 1.91330102 1.67669269 3.13936239 2.96835909 2.80811072\n",
      " 2.40372557 3.61903201 3.47921799 3.34370595 3.13183394 3.01890723\n",
      " 4.08579572 3.96641606 3.8470364  3.66420269 3.58354076 4.62569292\n",
      " 4.47619947 4.34176292 4.16645765 4.10623008 5.1526842  5.0257761\n",
      " 4.89886799 4.67946754 4.59557913 5.67107155 5.56997527 5.46135053\n",
      " 5.24947852 5.19677939 6.1754775  6.09374008 5.99479477 5.84745231\n",
      " 5.76679038 6.67450598 6.60997644 6.52286155 6.38734951 6.37982106\n",
      " 1.32930864 1.09592678 0.85071451 0.40330966 1.95524523 1.77241151\n",
      " 1.55946402 1.22928784 1.02494428 2.54784155 2.38436671 2.21981636\n",
      " 1.93373538 1.76810954 3.0662289  2.93394333 2.77907242 2.53708663\n",
      " 2.40695205 3.58784273 3.45985913 3.3221961  3.11462606 3.00169936\n",
      " 4.04922898 3.94383072 3.81046966 3.63839087 3.54804951 4.58374871\n",
      " 4.46006708 4.32132856 4.13311739 4.0739653  5.18494898 5.08062621\n",
      " 4.95156712 4.77841284 4.71388329 5.80120614 5.70441182 5.58825864\n",
      " 5.43446322 5.40327394 6.38950049 6.30131011 6.19698735 6.08621163\n",
      " 6.02383307 6.9993047  6.91218981 6.83152788 6.72720511 6.64331671\n",
      " 7.57469314 7.50801261 7.4391811  7.33270735 7.28000822 8.14470413\n",
      " 8.11028837 8.05866474 7.94681352 7.86292511 1.38308326 1.22713686\n",
      " 0.67325826 1.81112924 1.51321784 0.75069371 2.47685905 2.39727261\n",
      " 1.36587538 3.02858667 2.93286784 2.71561837 2.20260848 3.62440947\n",
      " 3.5211622  3.33402652 2.78552538 4.21162833 4.1030036  3.95458564\n",
      " 3.46308561 4.79024326 4.67624106 4.54825746 4.0073125  5.36455621\n",
      " 5.24732754 5.15483519 4.59773011 5.94209564 5.82916894 5.73990307\n",
      " 5.23657261 6.49812523 6.40563288 6.33357489 5.85067879 0.99698148\n",
      " 0.74531625 1.86705485 1.6756172  1.32285568 2.33704504 2.02300125\n",
      " 1.81005375 3.12645648 2.96298163 2.68120261 2.48976496 3.72012829\n",
      " 3.57493682 3.31896962 3.14904182 4.29981871 4.17828807 3.93522678\n",
      " 3.78358235 4.86337674 4.76120496 4.53750254 4.40414148 5.42801027\n",
      " 5.32798947 5.12579689 5.00749273 5.98511534 5.89262299 5.70978928\n",
      " 5.60331553 6.53361648 6.46048299 6.29378167 6.18838341 1.47987758\n",
      " 2.129475   1.94233932 1.5906533  1.33253511 2.75218511 2.5833328\n",
      " 2.26606254 2.04343561 3.35876284 3.1942125  2.91673545 2.71346739\n",
      " 3.95351015 3.79756375 3.55235148 3.36198932 4.53212508 4.39553754\n",
      " 4.17506159 3.99652985 5.1247214  4.99566231 4.79669621 4.61493799\n",
      " 5.70871379 5.60869299 5.39359451 5.21291178 6.29593265 6.20021383\n",
      " 5.98726633 5.83239542 0.7808075  0.3968567  1.37125284 1.02924625\n",
      " 0.84856352 2.07139841 1.71433492 1.48525504 2.88554617 2.49729341\n",
      " 2.18324962 3.23938318 2.94254727 2.78337439 3.80831867 3.59967314\n",
      " 3.3641403  4.4288778  4.1879675  4.03417208 5.10428705 4.79239424\n",
      " 5.62805186 5.37853761 5.19032644 6.09911754 5.77109235 6.7723758\n",
      " 6.66052458 6.32389545]\n"
     ]
    }
   ],
   "source": [
    "#맨끝에 열을 'Pandas_ unique' 함수로 Taget 데이터로 변환\n",
    "print(pd.unique(data['Output_Velocity']))\n"
   ]
  },
  {
   "cell_type": "code",
   "execution_count": 4,
   "id": "82b49583",
   "metadata": {},
   "outputs": [
    {
     "name": "stdout",
     "output_type": "stream",
     "text": [
      "[[ 0.         40.          1.51708144]\n",
      " [ 1.         40.          1.51708144]\n",
      " [ 2.         40.          1.51708144]\n",
      " [ 3.         40.          1.51708144]\n",
      " [ 0.         42.          1.51708144]]\n"
     ]
    }
   ],
   "source": [
    "# 특성값 추출 > Input Data\n",
    "data_input=data[['Pressure','Voltage','Z']].to_numpy()\n",
    "print((data_input[:5]))"
   ]
  },
  {
   "cell_type": "code",
   "execution_count": 5,
   "id": "0246f1e3",
   "metadata": {},
   "outputs": [],
   "source": [
    "# 마지막 열 > Target Data \n",
    "data_target = data['Output_Velocity'].to_numpy()"
   ]
  },
  {
   "cell_type": "markdown",
   "id": "04f5555a",
   "metadata": {},
   "source": [
    "# 2. AI model training"
   ]
  },
  {
   "cell_type": "markdown",
   "id": "f8d91d6c",
   "metadata": {},
   "source": [
    "#### Model\n",
    "- Hyperparameter tunning\n"
   ]
  },
  {
   "cell_type": "code",
   "execution_count": 6,
   "id": "ae83bad2",
   "metadata": {},
   "outputs": [
    {
     "name": "stdout",
     "output_type": "stream",
     "text": [
      "Training Score: 1.0\n",
      "Validation Score: 0.7818594104180787\n",
      "Testing Score: 0.8180008134584711\n"
     ]
    }
   ],
   "source": [
    "from sklearn.model_selection import train_test_split\n",
    "# 훈련 세트와 나머지를 분리\n",
    "train_input, temp_input, train_target, temp_target = train_test_split(\n",
    "    data_input, data_target, test_size=0.4,\n",
    ")\n",
    "\n",
    "# 나머지에서 검증 세트와 테스트 세트를 분리\n",
    "val_input, test_input, val_target, test_target = train_test_split(\n",
    "    temp_input, temp_target, test_size=0.5\n",
    ")\n",
    "\n",
    "# 여기서는 표준화 과정이 빠져 있기 때문에 해당 과정을 추가\n",
    "from sklearn.preprocessing import StandardScaler\n",
    "scaler = StandardScaler()\n",
    "train_scaled = scaler.fit_transform(train_input)\n",
    "val_scaled = scaler.transform(val_input)\n",
    "test_scaled = scaler.transform(test_input)\n",
    "\n",
    "# 모델 생성 및 훈련\n",
    "from sklearn.neighbors import KNeighborsRegressor\n",
    "knr = KNeighborsRegressor(metric='manhattan', n_neighbors=4, weights='distance')\n",
    "knr.fit(train_scaled, train_target)\n",
    "\n",
    "# 모델 평가\n",
    "train_score = knr.score(train_scaled, train_target)\n",
    "val_score = knr.score(val_scaled, val_target)\n",
    "test_score = knr.score(test_scaled, test_target)\n",
    "\n",
    "print(\"Training Score:\", train_score)\n",
    "print(\"Validation Score:\", val_score)\n",
    "print(\"Testing Score:\", test_score)"
   ]
  },
  {
   "cell_type": "code",
   "execution_count": 7,
   "id": "4f2fa28a",
   "metadata": {},
   "outputs": [
    {
     "name": "stdout",
     "output_type": "stream",
     "text": [
      "MSE: 0.9553792395504834\n",
      "MAE: 0.7153501552883741\n",
      "RMSE: 0.9774350308590763\n"
     ]
    }
   ],
   "source": [
    "from sklearn.metrics import mean_squared_error, mean_absolute_error\n",
    "import numpy as np\n",
    "\n",
    "# 예측값 생성 \n",
    "predictions = knr.predict(test_scaled)\n",
    "\n",
    "# 1. 평균 제곱 오차 (MSE)\n",
    "mse = mean_squared_error(test_target, predictions)\n",
    "print(\"MSE:\", mse)\n",
    "\n",
    "# 2. 평균 절대 오차 (MAE)\n",
    "mae = mean_absolute_error(test_target, predictions)\n",
    "print(\"MAE:\", mae)\n",
    "\n",
    "# 3. 루트 평균 제곱 오차 (RMSE)\n",
    "rmse = np.sqrt(mse)\n",
    "print(\"RMSE:\", rmse)"
   ]
  },
  {
   "cell_type": "code",
   "execution_count": 8,
   "id": "62c03b42",
   "metadata": {},
   "outputs": [
    {
     "data": {
      "image/png": "[encoded data removed]",
      "text/plain": [
       "<Figure size 640x480 with 1 Axes>"
      ]
     },
     "metadata": {},
     "output_type": "display_data"
    }
   ],
   "source": [
    "import matplotlib.pyplot as plt\n",
    "\n",
    "# R-제곱 값을 계산\n",
    "training_r2 = knr.score(train_scaled, train_target)\n",
    "val_r2 = knr.score(val_scaled, val_target)\n",
    "test_r2 = knr.score(test_scaled, test_target)\n",
    "\n",
    "# 데이터를 준비\n",
    "labels = ['Training', 'Validation', 'Test']\n",
    "r2_values = [training_r2, val_r2, test_r2]\n",
    "\n",
    "# 바 차트를 생성\n",
    "plt.bar(labels, r2_values, color=['blue', 'green', 'red'])\n",
    "\n",
    "# 플롯에 레이블을 추가\n",
    "plt.ylabel('R-squared Value')\n",
    "plt.title('R-squared Value for k-NN Regressor')\n",
    "\n",
    "for i, value in enumerate(r2_values):\n",
    "    plt.text(i, value - 0.05 if value > 0.5 else value + 0.03, f'{value:.2f}', ha='center', va='bottom')\n",
    "\n",
    "plt.show()"
   ]
  },
  {
   "cell_type": "markdown",
   "id": "6d405e75",
   "metadata": {},
   "source": [
    "# 3. Output Data"
   ]
  },
  {
   "cell_type": "code",
   "execution_count": 9,
   "id": "acb86023",
   "metadata": {},
   "outputs": [
    {
     "name": "stdout",
     "output_type": "stream",
     "text": [
      "테스트 예측값: [5.99047998 4.24686374 3.15490247 0.86413968 5.01384382 3.89702734\n",
      " 4.96014509 4.52757108 3.87256691 5.82458591 5.75186598 3.01079942\n",
      " 0.85845016 2.74358117 1.45527315 0.31375104 1.5422499  1.59982332\n",
      " 3.89435511 7.04166797 5.93414905 3.62750637 5.9033177  3.1233644\n",
      " 6.2234584  3.0591273  6.38643427 2.03224748 2.94517901 2.07582753\n",
      " 5.40003332 0.55932784 5.95414003 2.23517215 4.19524745 1.01670454\n",
      " 6.10764518 3.82427286 5.9362418  0.92390158 1.37166289 3.14672874\n",
      " 3.00770418 1.89429224 5.37735775 1.18735667 5.46781991 0.66039815\n",
      " 5.12425752 3.96203529 2.00228082 5.67455172 3.82243377 6.41269625\n",
      " 3.59608767 5.77983017 1.74150264 3.0766186  5.44451751 2.44464796\n",
      " 0.2285151  2.3968059  2.00328288 5.32960775 4.7409312  2.33828137\n",
      " 3.36917736 3.94469401 3.0680726  2.07633302 4.4500762  5.64288214\n",
      " 4.19655644]\n"
     ]
    }
   ],
   "source": [
    "# 테스트 데이터에 대한 예측값 구하기\n",
    "test_predictions = knr.predict(test_scaled)\n",
    "\n",
    "# 예측값 출력\n",
    "print(\"테스트 예측값:\", test_predictions)\n"
   ]
  },
  {
   "cell_type": "code",
   "execution_count": 11,
   "id": "dfe210d8",
   "metadata": {},
   "outputs": [
    {
     "ename": "NameError",
     "evalue": "name 'train_predictions' is not defined",
     "output_type": "error",
     "traceback": [
      "\u001b[1;31m---------------------------------------------------------------------------\u001b[0m",
      "\u001b[1;31mNameError\u001b[0m                                 Traceback (most recent call last)",
      "\u001b[1;32m~\\AppData\\Local\\Temp\\ipykernel_17460\\1963095908.py\u001b[0m in \u001b[0;36m<module>\u001b[1;34m\u001b[0m\n\u001b[0;32m      3\u001b[0m \u001b[1;33m\u001b[0m\u001b[0m\n\u001b[0;32m      4\u001b[0m \u001b[1;31m# 상관 계수를 계산\u001b[0m\u001b[1;33m\u001b[0m\u001b[1;33m\u001b[0m\u001b[1;33m\u001b[0m\u001b[0m\n\u001b[1;32m----> 5\u001b[1;33m \u001b[0mtrain_corr\u001b[0m\u001b[1;33m,\u001b[0m \u001b[0m_\u001b[0m \u001b[1;33m=\u001b[0m \u001b[0mpearsonr\u001b[0m\u001b[1;33m(\u001b[0m\u001b[0mtrain_predictions\u001b[0m\u001b[1;33m,\u001b[0m \u001b[0mtrain_target\u001b[0m\u001b[1;33m)\u001b[0m\u001b[1;33m\u001b[0m\u001b[1;33m\u001b[0m\u001b[0m\n\u001b[0m\u001b[0;32m      6\u001b[0m \u001b[0mtest_corr\u001b[0m\u001b[1;33m,\u001b[0m \u001b[0m_\u001b[0m \u001b[1;33m=\u001b[0m \u001b[0mpearsonr\u001b[0m\u001b[1;33m(\u001b[0m\u001b[0mtest_predictions\u001b[0m\u001b[1;33m,\u001b[0m \u001b[0mtest_target\u001b[0m\u001b[1;33m)\u001b[0m\u001b[1;33m\u001b[0m\u001b[1;33m\u001b[0m\u001b[0m\n\u001b[0;32m      7\u001b[0m \u001b[1;33m\u001b[0m\u001b[0m\n",
      "\u001b[1;31mNameError\u001b[0m: name 'train_predictions' is not defined"
     ]
    }
   ],
   "source": [
    "from scipy.stats import pearsonr\n",
    "import matplotlib.pyplot as plt\n",
    "\n",
    "# 상관 계수를 계산\n",
    "train_corr, _ = pearsonr(train_predictions, train_target)\n",
    "test_corr, _ = pearsonr(test_predictions, test_target)\n",
    "\n",
    "# 데이터를 준비\n",
    "labels = ['Training', 'Test']\n",
    "corr_values = [train_corr, test_corr]\n",
    "\n",
    "# 바 차트를 생성\n",
    "plt.bar(labels, corr_values, color=['blue', 'green'])\n",
    "\n",
    "# 플롯에 레이블을 추가\n",
    "plt.ylabel('Correlation Coefficient')\n",
    "plt.title('Correlation Coefficient for k-NN Regressor')\n",
    "\n",
    "# 각 바 위에 값들을 추가\n",
    "for i, value in enumerate(corr_values):\n",
    "    plt.text(i, value, f'{value:.2f}', ha='center', va='bottom')\n",
    "\n",
    "plt.show()"
   ]
  },
  {
   "cell_type": "markdown",
   "id": "0ca341d1",
   "metadata": {},
   "source": [
    "## Prediction Data "
   ]
  },
  {
   "cell_type": "code",
   "execution_count": 213,
   "id": "eaa2fd7f",
   "metadata": {},
   "outputs": [
    {
     "name": "stderr",
     "output_type": "stream",
     "text": [
      "c:\\Users\\user\\miniconda3\\envs\\tensorflow\\lib\\site-packages\\ipykernel_launcher.py:16: SettingWithCopyWarning: \n",
      "A value is trying to be set on a copy of a slice from a DataFrame.\n",
      "Try using .loc[row_indexer,col_indexer] = value instead\n",
      "\n",
      "See the caveats in the documentation: https://pandas.pydata.org/pandas-docs/stable/user_guide/indexing.html#returning-a-view-versus-a-copy\n",
      "  \n"
     ]
    }
   ],
   "source": [
    "import pandas as pd\n",
    "\n",
    "# CSV 파일 읽기\n",
    "data = pd.read_csv('c:/lsy_DL/0. TestData_rev8.csv')\n",
    "\n",
    "# \"Pressure\", \"Voltage\", \"Z\" 열만 가져오기\n",
    "new_data_sample = data[['Pressure','Voltage','Z']]\n",
    "\n",
    "# 데이터 샘플을 스케일링\n",
    "new_data_sample_scaled = scaler.transform(new_data_sample)\n",
    "\n",
    "# 스케일링된 데이터 샘플에 대한 예측을 수행\n",
    "prediction = knr.predict(new_data_sample_scaled)\n",
    "\n",
    "# 예측된 값을 'Prediction' 열로 추가\n",
    "new_data_sample['Prediction'] = prediction\n",
    "\n",
    "# DataFrame을 CSV 파일로 저장\n",
    "new_data_sample.to_csv('output_file8.csv', index=False)\n"
   ]
  },
  {
   "cell_type": "code",
   "execution_count": 214,
   "id": "8777acd5",
   "metadata": {},
   "outputs": [
    {
     "name": "stdout",
     "output_type": "stream",
     "text": [
      "Fitting 5 folds for each of 60 candidates, totalling 300 fits\n"
     ]
    },
    {
     "name": "stderr",
     "output_type": "stream",
     "text": [
      "[Parallel(n_jobs=1)]: Done  49 tasks      | elapsed:    0.0s\n",
      "[Parallel(n_jobs=1)]: Done 199 tasks      | elapsed:    0.1s\n"
     ]
    },
    {
     "name": "stdout",
     "output_type": "stream",
     "text": [
      "Best parameters: {'metric': 'manhattan', 'n_neighbors': 3, 'weights': 'distance'}\n",
      "Best cross-validation score: 0.8039901765583506\n",
      "Training Score with Best Parameters: 1.0\n",
      "Testing Score with Best Parameters: 0.8396439033328006\n"
     ]
    }
   ],
   "source": [
    "from sklearn.model_selection import GridSearchCV\n",
    "\n",
    "# 하이퍼파라미터 그리드 설정\n",
    "param_grid = {\n",
    "    'n_neighbors': [1, 2, 3, 4, 5, 6, 7, 8, 9, 10],\n",
    "    'weights': ['uniform', 'distance'],\n",
    "    'metric': ['euclidean', 'manhattan', 'minkowski']\n",
    "}\n",
    "\n",
    "# GridSearchCV 객체 생성\n",
    "grid_search = GridSearchCV(KNeighborsRegressor(), param_grid, cv=5, n_jobs=1, verbose=1)\n",
    "\n",
    "# 튜닝 시작\n",
    "grid_search.fit(train_scaled, train_target)\n",
    "\n",
    "# 최적의 하이퍼파라미터와 그 때의 점수 출력\n",
    "print(\"Best parameters:\", grid_search.best_params_)\n",
    "print(\"Best cross-validation score:\", grid_search.best_score_)\n",
    "\n",
    "# 최적의 하이퍼파라미터로 훈련된 모델 추출\n",
    "best_knr = grid_search.best_estimator_\n",
    "\n",
    "# 모델 평가\n",
    "train_score = best_knr.score(train_scaled, train_target)\n",
    "test_score = best_knr.score(test_scaled, test_target)\n",
    "\n",
    "print(\"Training Score with Best Parameters:\", train_score)\n",
    "print(\"Testing Score with Best Parameters:\", test_score)"
   ]
  },
  {
   "cell_type": "code",
   "execution_count": 40,
   "id": "2138d68d",
   "metadata": {},
   "outputs": [],
   "source": [
    "\n",
    "import tensorflow as tf\n",
    "def custom_loss(y_true, y_pred):\n",
    "    mse = tf.reduce_mean(tf.square(y_true - y_pred))\n",
    "    # 예: y_true 값이 10 이상일 때의 오차에 2배의 가중치를 부여\n",
    "    penalty = tf.where(y_true > 10, tf.square(y_true - y_pred), 0)\n",
    "    return mse + tf.reduce_mean(penalty)"
   ]
  },
  {
   "cell_type": "markdown",
   "id": "68506345",
   "metadata": {},
   "source": [
    "# Rev2"
   ]
  },
  {
   "cell_type": "code",
   "execution_count": 96,
   "id": "a24f6bd5",
   "metadata": {},
   "outputs": [
    {
     "name": "stdout",
     "output_type": "stream",
     "text": [
      "     Output_Velocity  Pressure  Voltage          Z     Error\n",
      "0                0.0       0.0       22   1.517081  0.000000\n",
      "1                0.0       1.0       22   1.517081  0.000000\n",
      "2                0.0       2.0       22   1.517081  0.000000\n",
      "3                0.0       3.0       22   1.517081  0.000000\n",
      "4                0.0       0.0       24   1.517081  0.000000\n",
      "..               ...       ...      ...        ...       ...\n",
      "573              0.0       1.0       52  17.801203  0.000000\n",
      "574              0.0       2.0       52  17.801203  0.173856\n",
      "575              0.0       0.0       54  17.801203  0.000000\n",
      "576              0.0       1.0       54  17.801203  0.000000\n",
      "577              0.0       2.0       54  17.801203  0.000000\n",
      "\n",
      "[578 rows x 5 columns]\n",
      "[0.         0.43342345 0.28823197 0.23015538 0.97009417 0.85824296\n",
      " 0.83673311 0.64852193 1.45299026 1.36910186 1.32500667 1.18626814\n",
      " 2.08860629 2.03590716 1.99826492 1.74767519 2.79520481 2.79950678\n",
      " 2.81994114 2.52633171 3.50395432 3.54482303 3.61580553 3.38672564\n",
      " 4.19334496 4.26755394 4.3869336  4.21270383 0.76037314 0.74639174\n",
      " 0.67648473 0.32479871 1.40674409 1.40351761 1.38953621 1.16475829\n",
      " 0.75499568 1.97567958 1.97783057 2.00364239 1.84984697 1.53042572\n",
      " 2.50267087 2.50159538 2.55214352 2.45427371 2.16281526 2.97158557\n",
      " 2.98986894 3.06192693 2.9952464  2.74143019 3.41361296 3.45340617\n",
      " 3.54052106 3.49535038 3.25336458 3.82982852 3.87177273 3.97179352\n",
      " 3.95673663 3.72658125 4.25142155 4.35574432 4.52352114 4.58805068\n",
      " 4.3008942  1.35404496 1.13679549 0.96149023 0.45063133 1.95094326\n",
      " 1.75950561 1.60571019 1.20562701 0.8948097  2.51342579 2.39297064\n",
      " 2.25423212 1.91330102 1.67669269 3.13936239 2.96835909 2.80811072\n",
      " 2.40372557 3.61903201 3.47921799 3.34370595 3.13183394 3.01890723\n",
      " 4.08579572 3.96641606 3.8470364  3.66420269 3.58354076 4.62569292\n",
      " 4.47619947 4.34176292 4.16645765 4.10623008 5.1526842  5.0257761\n",
      " 4.89886799 4.67946754 4.59557913 5.67107155 5.56997527 5.46135053\n",
      " 5.24947852 5.19677939 6.1754775  6.09374008 5.99479477 5.84745231\n",
      " 5.76679038 6.67450598 6.60997644 6.52286155 6.38734951 6.37982106\n",
      " 1.32930864 1.09592678 0.85071451 0.40330966 1.95524523 1.77241151\n",
      " 1.55946402 1.22928784 1.02494428 2.54784155 2.38436671 2.21981636\n",
      " 1.93373538 1.76810954 3.0662289  2.93394333 2.77907242 2.53708663\n",
      " 2.40695205 3.58784273 3.45985913 3.3221961  3.11462606 3.00169936\n",
      " 4.04922898 3.94383072 3.81046966 3.63839087 3.54804951 4.58374871\n",
      " 4.46006708 4.32132856 4.13311739 4.0739653  5.18494898 5.08062621\n",
      " 4.95156712 4.77841284 4.71388329 5.80120614 5.70441182 5.58825864\n",
      " 5.43446322 5.40327394 6.38950049 6.30131011 6.19698735 6.08621163\n",
      " 6.02383307 6.9993047  6.91218981 6.83152788 6.72720511 6.64331671\n",
      " 7.57469314 7.50801261 7.4391811  7.33270735 7.28000822 8.14470413\n",
      " 8.11028837 8.05866474 7.94681352 7.86292511 1.38308326 1.22713686\n",
      " 0.67325826 1.81112924 1.51321784 0.75069371 2.47685905 2.39727261\n",
      " 1.36587538 3.02858667 2.93286784 2.71561837 2.20260848 3.62440947\n",
      " 3.5211622  3.33402652 2.78552538 4.21162833 4.1030036  3.95458564\n",
      " 3.46308561 4.79024326 4.67624106 4.54825746 4.0073125  5.36455621\n",
      " 5.24732754 5.15483519 4.59773011 5.94209564 5.82916894 5.73990307\n",
      " 5.23657261 6.49812523 6.40563288 6.33357489 5.85067879 0.99698148\n",
      " 0.74531625 1.86705485 1.6756172  1.32285568 2.33704504 2.02300125\n",
      " 1.81005375 3.12645648 2.96298163 2.68120261 2.48976496 3.72012829\n",
      " 3.57493682 3.31896962 3.14904182 4.29981871 4.17828807 3.93522678\n",
      " 3.78358235 4.86337674 4.76120496 4.53750254 4.40414148 5.42801027\n",
      " 5.32798947 5.12579689 5.00749273 5.98511534 5.89262299 5.70978928\n",
      " 5.60331553 6.53361648 6.46048299 6.29378167 6.18838341 1.47987758\n",
      " 2.129475   1.94233932 1.5906533  1.33253511 2.75218511 2.5833328\n",
      " 2.26606254 2.04343561 3.35876284 3.1942125  2.91673545 2.71346739\n",
      " 3.95351015 3.79756375 3.55235148 3.36198932 4.53212508 4.39553754\n",
      " 4.17506159 3.99652985 5.1247214  4.99566231 4.79669621 4.61493799\n",
      " 5.70871379 5.60869299 5.39359451 5.21291178 6.29593265 6.20021383\n",
      " 5.98726633 5.83239542 0.7808075  0.3968567  1.37125284 1.02924625\n",
      " 0.84856352 2.07139841 1.71433492 1.48525504 2.88554617 2.49729341\n",
      " 2.18324962 3.23938318 2.94254727 2.78337439 3.80831867 3.59967314\n",
      " 3.3641403  4.4288778  4.1879675  4.03417208 5.10428705 4.79239424\n",
      " 5.62805186 5.37853761 5.19032644 6.09911754 5.77109235 6.7723758\n",
      " 6.66052458 6.32389545]\n",
      "[[ 0.         22.          1.51708144  0.        ]\n",
      " [ 1.         22.          1.51708144  0.        ]\n",
      " [ 2.         22.          1.51708144  0.        ]\n",
      " [ 3.         22.          1.51708144  0.        ]\n",
      " [ 0.         24.          1.51708144  0.        ]]\n"
     ]
    }
   ],
   "source": [
    "import pandas as pd\n",
    "\n",
    "# CSV 파일 불러오기\n",
    "basic_data = pd.read_csv('c:/lsy_DL/0. TestData_rev8.csv')\n",
    "\n",
    "# \"column1\"과 \"column3\" 열만 가져오기\n",
    "data = basic_data[['Output_Velocity','Pressure','Voltage','Z','Error']]\n",
    "\n",
    "# 가져온 열의 내용 출력\n",
    "print(data)\n",
    "\n",
    "#맨끝에 열을 'Pandas_ unique' 함수로 Taget 데이터로 변환\n",
    "print(pd.unique(data['Output_Velocity']))\n",
    "\n",
    "# 특성값 추출 > Input Data\n",
    "data_input=data[['Pressure','Voltage','Z', 'Error']].to_numpy()\n",
    "print((data_input[:5]))\n",
    "\n",
    "# 마지막 열 > Target Data \n",
    "data_target = data['Output_Velocity'].to_numpy()\n"
   ]
  },
  {
   "cell_type": "code",
   "execution_count": 100,
   "id": "5aa5ed3a",
   "metadata": {},
   "outputs": [
    {
     "name": "stdout",
     "output_type": "stream",
     "text": [
      "Training Score: 1.0\n",
      "Validation Score: 0.6076328752724377\n",
      "Testing Score: 0.5962722644648553\n"
     ]
    }
   ],
   "source": [
    "from sklearn.model_selection import train_test_split\n",
    "# 훈련 세트와 나머지를 분리\n",
    "train_input, temp_input, train_target, temp_target = train_test_split(\n",
    "    data_input, data_target, test_size=0.4\n",
    ")\n",
    "\n",
    "# 나머지에서 검증 세트와 테스트 세트를 분리\n",
    "val_input, test_input, val_target, test_target = train_test_split(\n",
    "    temp_input, temp_target, test_size=0.5\n",
    ")\n",
    "\n",
    "# 여기서는 표준화 과정이 빠져 있기 때문에 해당 과정을 추가\n",
    "from sklearn.preprocessing import StandardScaler\n",
    "scaler = StandardScaler()\n",
    "train_scaled = scaler.fit_transform(train_input)\n",
    "val_scaled = scaler.transform(val_input)\n",
    "test_scaled = scaler.transform(test_input)\n",
    "\n",
    "# 모델 생성 및 훈련\n",
    "from sklearn.neighbors import KNeighborsRegressor\n",
    "knr = KNeighborsRegressor(metric='euclidean', n_neighbors=3, weights='distance')\n",
    "knr.fit(train_scaled, train_target)\n",
    "\n",
    "# 모델 평가\n",
    "train_score = knr.score(train_scaled, train_target)\n",
    "val_score = knr.score(val_scaled, val_target)\n",
    "test_score = knr.score(test_scaled, test_target)\n",
    "\n",
    "print(\"Training Score:\", train_score)\n",
    "print(\"Validation Score:\", val_score)\n",
    "print(\"Testing Score:\", test_score)"
   ]
  },
  {
   "cell_type": "code",
   "execution_count": 101,
   "id": "e972dda5",
   "metadata": {},
   "outputs": [
    {
     "name": "stderr",
     "output_type": "stream",
     "text": [
      "c:\\Users\\user\\miniconda3\\envs\\tensorflow\\lib\\site-packages\\ipykernel_launcher.py:21: SettingWithCopyWarning: \n",
      "A value is trying to be set on a copy of a slice from a DataFrame.\n",
      "Try using .loc[row_indexer,col_indexer] = value instead\n",
      "\n",
      "See the caveats in the documentation: https://pandas.pydata.org/pandas-docs/stable/user_guide/indexing.html#returning-a-view-versus-a-copy\n"
     ]
    }
   ],
   "source": [
    "# 테스트 데이터에 대한 예측값 구하기\n",
    "test_predictions = knr.predict(test_scaled)\n",
    "\n",
    "\n",
    "# 예측값 출력\n",
    "import pandas as pd\n",
    "\n",
    "# CSV 파일 읽기\n",
    "data = pd.read_csv('c:/lsy_DL/0. TestData_rev8.csv')\n",
    "\n",
    "# \"Pressure\", \"Voltage\", \"Z\" 열만 가져오기\n",
    "new_data_sample = data[['Pressure','Voltage','Z', 'Error']]\n",
    "\n",
    "# 데이터 샘플을 스케일링\n",
    "new_data_sample_scaled = scaler.transform(new_data_sample)\n",
    "\n",
    "# 스케일링된 데이터 샘플에 대한 예측을 수행\n",
    "prediction = knr.predict(new_data_sample_scaled)\n",
    "\n",
    "# 예측된 값을 'Prediction' 열로 추가\n",
    "new_data_sample['Prediction'] = prediction\n",
    "\n",
    "# DataFrame을 CSV 파일로 저장\n",
    "new_data_sample.to_csv('output_file8.csv', index=False)"
   ]
  },
  {
   "cell_type": "code",
   "execution_count": 102,
   "id": "193b4945",
   "metadata": {},
   "outputs": [
    {
     "name": "stdout",
     "output_type": "stream",
     "text": [
      "Fitting 5 folds for each of 60 candidates, totalling 300 fits\n"
     ]
    },
    {
     "name": "stderr",
     "output_type": "stream",
     "text": [
      "[Parallel(n_jobs=1)]: Done  49 tasks      | elapsed:    0.0s\n",
      "[Parallel(n_jobs=1)]: Done 199 tasks      | elapsed:    0.2s\n"
     ]
    },
    {
     "name": "stdout",
     "output_type": "stream",
     "text": [
      "Best parameters: {'metric': 'manhattan', 'n_neighbors': 4, 'weights': 'distance'}\n",
      "Best cross-validation score: 0.5839955173493592\n",
      "Training Score with Best Parameters: 1.0\n",
      "Validation Score: 0.6076328752724377\n",
      "Testing Score with Best Parameters: 0.6396922565514429\n"
     ]
    }
   ],
   "source": [
    "from sklearn.model_selection import GridSearchCV\n",
    "\n",
    "# 하이퍼파라미터 그리드 설정\n",
    "param_grid = {\n",
    "    'n_neighbors': [1, 2, 3, 4, 5, 6, 7, 8, 9, 10],\n",
    "    'weights': ['uniform', 'distance'],\n",
    "    'metric': ['euclidean', 'manhattan', 'minkowski']\n",
    "}\n",
    "\n",
    "# GridSearchCV 객체 생성\n",
    "grid_search = GridSearchCV(KNeighborsRegressor(), param_grid, cv=5, n_jobs=1, verbose=1)\n",
    "\n",
    "# 튜닝 시작\n",
    "grid_search.fit(train_scaled, train_target)\n",
    "\n",
    "# 최적의 하이퍼파라미터와 그 때의 점수 출력\n",
    "print(\"Best parameters:\", grid_search.best_params_)\n",
    "print(\"Best cross-validation score:\", grid_search.best_score_)\n",
    "\n",
    "# 최적의 하이퍼파라미터로 훈련된 모델 추출\n",
    "best_knr = grid_search.best_estimator_\n",
    "\n",
    "# 모델 평가\n",
    "train_score = best_knr.score(train_scaled, train_target)\n",
    "val_score = knr.score(val_scaled, val_target)\n",
    "test_score = best_knr.score(test_scaled, test_target)\n",
    "\n",
    "print(\"Training Score with Best Parameters:\", train_score)\n",
    "print(\"Validation Score:\", val_score)\n",
    "print(\"Testing Score with Best Parameters:\", test_score)"
   ]
  },
  {
   "cell_type": "markdown",
   "id": "4ab9f808",
   "metadata": {},
   "source": [
    "#  Rev3"
   ]
  },
  {
   "cell_type": "markdown",
   "id": "d1d32f20",
   "metadata": {},
   "source": [
    "## 보정계수 찾아내는 코드\n",
    "- 목적함수:SVM_Regression 모델에 대한 보정계수"
   ]
  },
  {
   "cell_type": "code",
   "execution_count": null,
   "id": "49c97155",
   "metadata": {},
   "outputs": [],
   "source": [
    "import numpy as np\n",
    "from scipy.optimize import minimize\n",
    "import pandas as pd\n",
    "from sklearn.svm import SVR\n",
    "from sklearn.preprocessing import StandardScaler\n",
    "from sklearn.model_selection import train_test_split\n",
    "\n",
    "epsilon = 1e-10  # 분모가 0이 되는 것을 방지하기 위한 아주 작은 값\n",
    "\n",
    "# 데이터 불러오기\n",
    "basic_data = pd.read_csv('c:/lsy_DL/0. TestData_rev9.csv')\n",
    "data = basic_data[['Output_Velocity','Pressure','Voltage','Viscosity', 'Surface Tension', 'Density']]\n",
    "\n",
    "# 입력, 타겟 데이터 변환\n",
    "data_input = data[['Pressure','Voltage','Viscosity','Surface Tension', 'Density']].to_numpy()\n",
    "data_target = data['Output_Velocity'].to_numpy()\n",
    "\n",
    "# 데이터 분리\n",
    "train_input, temp_input, train_target, temp_target = train_test_split(\n",
    "    data_input, data_target, test_size=0.4, random_state=42\n",
    ")\n",
    "val_input, test_input, val_target, test_target = train_test_split(\n",
    "    temp_input, temp_target, test_size=0.5, random_state=42\n",
    ")\n",
    "\n",
    "# 데이터 표준화\n",
    "scaler = StandardScaler()\n",
    "train_scaled = scaler.fit_transform(train_input)\n",
    "val_scaled = scaler.transform(val_input)\n",
    "test_scaled = scaler.transform(test_input)\n",
    "\n",
    "# 모델 훈련\n",
    "svm_regressor = SVR(C=100, epsilon=0.1, kernel='rbf')\n",
    "svm_regressor.fit(train_scaled, train_target)\n",
    "\n",
    "# 역 최적화를 위한 목적 함수 정의\n",
    "# epsilon = 1e-10  # 분모가 0이 되는 것을 방지하기 위한 아주 작은 값\n",
    "def inverse_objective_function(x_scaled, y_target):\n",
    "    y_pred = svm_regressor.predict([x_scaled])\n",
    "    # 상대 오차 계산\n",
    "    relative_error = abs(y_pred - y_target) / (abs(y_target) + epsilon)\n",
    "    return relative_error[0]\n",
    "\n",
    "# 주어진 y_target 값에 대해 최적의 x를 찾기\n",
    "y_target = data_target[0]  # 첫 번째 Output_Velocity 값으로 설정\n",
    "x0_scaled = scaler.transform([[1, 1, 1, 1, 1]])  # 초기 추정값. 임의로 설정\n",
    "result = minimize(inverse_objective_function, x0=x0_scaled[0], args=(y_target,))\n",
    "x_optimal_scaled = result.x\n",
    "\n",
    "# 스케일링 된 값을 원래의 값으로 변환\n",
    "x_optimal = scaler.inverse_transform([x_optimal_scaled])\n",
    "\n",
    "print(f\"Optimal x for y_target {y_target} is {x_optimal[0]}\")\n"
   ]
  },
  {
   "cell_type": "markdown",
   "id": "f9049116",
   "metadata": {},
   "source": [
    "## 보정계수 찾아내는 코드\n",
    "- 목적함수:다항식 보정공식에 대한 보정계수"
   ]
  },
  {
   "cell_type": "code",
   "execution_count": null,
   "id": "ab250502",
   "metadata": {},
   "outputs": [],
   "source": [
    "import numpy as np\n",
    "from scipy.optimize import minimize\n",
    "import pandas as pd\n",
    "\n",
    "epsilon = 1e-10  # Avoid division by zero\n",
    "\n",
    "# Data loading\n",
    "basic_data = pd.read_csv('c:/lsy_DL/0. TestData_rev10.csv')\n",
    "data = basic_data[['Output_Velocity','Pressure','Voltage','Viscosity', 'Surface Tension', 'Density']]\n",
    "\n",
    "# Extracting input and target data\n",
    "data_input = data[['Pressure','Voltage','Viscosity','Surface Tension', 'Density']].to_numpy()\n",
    "data_target = data['Output_Velocity'].to_numpy()\n",
    "\n",
    "# Polynomial correction function for 2nd order\n",
    "def polynomial_correction_function(x, coefficients):\n",
    "    a, b, c, d, e, f, g, h, i, j, k, l, m, n, o, p, q, r, s, t = coefficients\n",
    "    return (\n",
    "        a + \n",
    "        b*x[0] + c*x[1] + d*x[2] + e*x[3] + f*x[4] + \n",
    "        g*x[0]**2 + h*x[1]**2 + i*x[2]**2 + j*x[3]**2 + k*x[4]**2 + \n",
    "        l*x[0]*x[1] + m*x[0]*x[2] + n*x[0]*x[3] + o*x[0]*x[4] + \n",
    "        p*x[1]*x[2] + q*x[1]*x[3] + r*x[1]*x[4] + \n",
    "        s*x[2]*x[3] + t*x[2]*x[4]\n",
    "    )\n",
    "\n",
    "# Objective function for optimization\n",
    "def objective_function(coefficients, data_input, data_target):\n",
    "    predictions = np.apply_along_axis(polynomial_correction_function, 1, data_input, coefficients)\n",
    "    relative_errors = np.abs(predictions - data_target) / (np.abs(data_target) + epsilon)\n",
    "    return np.mean(relative_errors)\n",
    "\n",
    "# Initial guess for coefficients\n",
    "initial_coefficients = [1] * 20\n",
    "\n",
    "# Find optimal coefficients\n",
    "result = minimize(objective_function, x0=initial_coefficients, args=(data_input, data_target))\n",
    "optimal_coefficients = result.x\n",
    "\n",
    "# Create a DataFrame to store the optimal coefficients\n",
    "coefficients_df = pd.DataFrame([optimal_coefficients], columns=['a', 'b', 'c', 'd', 'e', 'f', 'g', 'h', 'i', 'j', 'k', 'l', 'm', 'n', 'o', 'p', 'q', 'r', 's', 't'])\n",
    "\n",
    "# Save the coefficients to a new CSV file\n",
    "coefficients_df.to_csv('c:/lsy_DL/output_file10_5. SVM[Velocity_Factor_Poly].csv', index=False)\n",
    "\n",
    "print(\"Coefficients saved!\")"
   ]
  },
  {
   "cell_type": "code",
   "execution_count": null,
   "id": "787227e2",
   "metadata": {},
   "outputs": [],
   "source": [
    "import numpy as np\n",
    "from scipy.optimize import minimize\n",
    "import pandas as pd\n",
    "\n",
    "epsilon = 1e-10  # Avoid division by zero\n",
    "\n",
    "# Data loading\n",
    "basic_data = pd.read_csv('c:/lsy_DL/0. TestData_rev10_velocity.csv')\n",
    "data_target = basic_data['Output_Velocity'].to_numpy()\n",
    "data_input = basic_data.drop('Output_Velocity', axis=1).to_numpy()\n",
    "\n",
    "# Create polynomial features dynamically\n",
    "def polynomial_correction_function(x, coefficients):\n",
    "    linear_terms = np.dot(coefficients[:len(x)], x)\n",
    "    squared_terms = np.dot(coefficients[len(x):2*len(x)], x**2)\n",
    "    interaction_terms = sum([coefficients[2*len(x) + i] * x[i] * x[j] for i in range(len(x)) for j in range(i+1, len(x))])\n",
    "    return linear_terms + squared_terms + interaction_terms\n",
    "\n",
    "# Objective function for optimization\n",
    "def objective_function(coefficients, data_input, data_target):\n",
    "    predictions = np.apply_along_axis(polynomial_correction_function, 1, data_input, coefficients)\n",
    "    relative_errors = np.abs(predictions - data_target) / (np.abs(data_target) + epsilon)\n",
    "    return np.mean(relative_errors)\n",
    "\n",
    "num_features = data_input.shape[1]\n",
    "# Initial guess for coefficients\n",
    "initial_coefficients = [1] * (2*num_features + (num_features*(num_features-1))//2)\n",
    "\n",
    "# Find optimal coefficients\n",
    "result = minimize(objective_function, x0=initial_coefficients, args=(data_input, data_target))\n",
    "optimal_coefficients = result.x\n",
    "\n",
    "# Create a DataFrame to store the optimal coefficients\n",
    "coefficients_columns = ['Output_Velocity'] + ['a' + str(i) for i in range(len(optimal_coefficients))]\n",
    "coefficients_data = np.concatenate(([data_target[0]], optimal_coefficients)).reshape(1, -1)\n",
    "coefficients_df = pd.DataFrame(coefficients_data, columns=coefficients_columns)\n",
    "\n",
    "# Save the coefficients to a new CSV file\n",
    "coefficients_df.to_csv('c:/lsy_DL/output_file10_5. SVM[Velocity_Factor_Poly1].csv', index=False)\n",
    "\n",
    "print(\"Coefficients saved!\")"
   ]
  },
  {
   "cell_type": "code",
   "execution_count": null,
   "id": "674e31d6",
   "metadata": {},
   "outputs": [],
   "source": [
    "import numpy as np\n",
    "from scipy.optimize import minimize\n",
    "import pandas as pd\n",
    "\n",
    "epsilon = 1e-10  # Avoid division by zero\n",
    "\n",
    "# Data loading\n",
    "basic_data = pd.read_csv('c:/lsy_DL/0. TestData_rev10_velocity.csv')\n",
    "\n",
    "# Create polynomial features dynamically\n",
    "def polynomial_correction_function(x, coefficients):\n",
    "    linear_terms = np.dot(coefficients[:len(x)], x)\n",
    "    squared_terms = np.dot(coefficients[len(x):2*len(x)], x**2)\n",
    "    interaction_terms = sum([coefficients[2*len(x) + i] * x[i] * x[j] for i in range(len(x)) for j in range(i+1, len(x))])\n",
    "    return linear_terms + squared_terms + interaction_terms\n",
    "\n",
    "# Objective function for optimization\n",
    "def objective_function(coefficients, data_input, data_target):\n",
    "    predictions = np.apply_along_axis(polynomial_correction_function, 1, data_input, coefficients)\n",
    "    relative_errors = np.abs(predictions - data_target) / (np.abs(data_target) + epsilon)\n",
    "    return np.mean(relative_errors)\n",
    "\n",
    "num_features = basic_data.shape[1] - 1  # Subtract one for 'Output_Velocity'\n",
    "# Initial guess for coefficients\n",
    "initial_coefficients = [1] * (2*num_features + (num_features*(num_features-1))//2)\n",
    "\n",
    "coefficients_list = []\n",
    "\n",
    "for i in range(len(basic_data)):\n",
    "    data_target = basic_data.iloc[i]['Output_Velocity']\n",
    "    data_input_values = basic_data.drop('Output_Velocity', axis=1).iloc[i].to_numpy()\n",
    "    \n",
    "    result = minimize(objective_function, x0=initial_coefficients, args=(data_input_values.reshape(1,-1), data_target))\n",
    "    optimal_coefficients = result.x\n",
    "\n",
    "    # Store the Output_Velocity, the related features, and the optimal coefficients for this data point\n",
    "    coefficients_list.append([data_target] + list(data_input_values) + list(optimal_coefficients))\n",
    "\n",
    "# Convert the list to a DataFrame\n",
    "coefficients_columns = ['Output_Velocity'] + list(basic_data.drop('Output_Velocity', axis=1).columns) + ['a' + str(i) for i in range(len(optimal_coefficients))]\n",
    "coefficients_df = pd.DataFrame(coefficients_list, columns=coefficients_columns)\n",
    "\n",
    "# Save the coefficients to a new CSV file\n",
    "coefficients_df.to_csv('c:/lsy_DL/output_file10_5. SVM[Velocity_Factor_Poly2].csv', index=False)\n",
    "\n",
    "print(\"Coefficients saved!\")"
   ]
  },
  {
   "cell_type": "code",
   "execution_count": null,
   "id": "0edbb343",
   "metadata": {},
   "outputs": [],
   "source": [
    "import numpy as np\n",
    "from scipy.optimize import minimize\n",
    "import pandas as pd\n",
    "\n",
    "epsilon = 1e-10  # Avoid division by zero\n",
    "\n",
    "# Data loading\n",
    "basic_data = pd.read_csv('c:/lsy_DL/0. TestData_rev10_velocity.csv')\n",
    "\n",
    "# Create polynomial features dynamically\n",
    "def polynomial_correction_function(x, coefficients):\n",
    "    num_features = len(x)\n",
    "    linear_terms = np.dot(coefficients[:num_features], x)\n",
    "    squared_terms = np.dot(coefficients[num_features:2*num_features], x**2)\n",
    "    interaction_terms = sum([coefficients[2*num_features + i] * x[i] * x[j] for i in range(num_features) for j in range(i+1, num_features)])\n",
    "    return linear_terms + squared_terms + interaction_terms\n",
    "\n",
    "# Objective function for optimization\n",
    "def objective_function(coefficients, data_input, data_target):\n",
    "    predictions = np.apply_along_axis(polynomial_correction_function, 1, data_input, coefficients)\n",
    "    relative_errors = np.abs(predictions - data_target) / (np.abs(data_target) + epsilon)\n",
    "    return np.mean(relative_errors)\n",
    "\n",
    "num_features = basic_data.shape[1] - 1  # Subtract one for 'Output_Velocity'\n",
    "# Initial guess for coefficients\n",
    "initial_coefficients = [1] * (2*num_features + (num_features*(num_features-1))//2)\n",
    "\n",
    "coefficients_list = []\n",
    "\n",
    "for i in range(len(basic_data)):\n",
    "    data_target = basic_data.iloc[i]['Output_Velocity']\n",
    "    data_input_values = basic_data.drop('Output_Velocity', axis=1).iloc[i].to_numpy()\n",
    "    \n",
    "    result = minimize(objective_function, x0=initial_coefficients, args=(data_input_values.reshape(1,-1), np.array([data_target])))\n",
    "    optimal_coefficients = result.x\n",
    "\n",
    "    # Store the Output_Velocity, the related features, and the optimal coefficients for this data point\n",
    "    coefficients_list.append([data_target] + list(data_input_values) + list(optimal_coefficients))\n",
    "\n",
    "# Convert the list to a DataFrame\n",
    "coefficients_columns = ['Output_Velocity'] + list(basic_data.drop('Output_Velocity', axis=1).columns) + ['a' + str(i) for i in range(len(optimal_coefficients))]\n",
    "coefficients_df = pd.DataFrame(coefficients_list, columns=coefficients_columns)\n",
    "\n",
    "# Save the coefficients to a new CSV file\n",
    "coefficients_df.to_csv('c:/lsy_DL/output_file10_5. SVM[Velocity_Factor_Poly3].csv', index=False)\n",
    "\n",
    "print(\"Coefficients saved!\")"
   ]
  }
 ],
 "metadata": {
  "kernelspec": {
   "display_name": "Python 3 (ipykernel)",
   "language": "python",
   "name": "python3"
  },
  "language_info": {
   "codemirror_mode": {
    "name": "ipython",
    "version": 3
   },
   "file_extension": ".py",
   "mimetype": "text/x-python",
   "name": "python",
   "nbconvert_exporter": "python",
   "pygments_lexer": "ipython3",
   "version": "3.7.16"
  }
 },
 "nbformat": 4,
 "nbformat_minor": 5
}
